{
 "cells": [
  {
   "cell_type": "code",
   "execution_count": null,
   "metadata": {},
   "outputs": [],
   "source": [
    "import cv2\n",
    "import matplotlib.patches as patches\n",
    "import numpy as np\n",
    "import plotly.express as px\n",
    "from matplotlib import pyplot as plt\n",
    "\n",
    "from anpr.binarization.adaptative_gaussian import AdaptativeGaussianBinarizer\n",
    "from anpr.binarization.adaptative_mean import AdaptativeMeanBinarizer\n",
    "from anpr.binarization.kittler import KittlerBinarizer\n",
    "from anpr.binarization.otsu import OtsuBinarizer\n",
    "from anpr.core.binarizer import Binarizer\n",
    "from anpr.core.image_processor import ImageProcessor\n",
    "from anpr.datasets.open_alpr import OpenALPRDataset, OpenALPRImage\n",
    "from anpr.detection.estimator_detector import EstimatorDetector\n",
    "from anpr.generic.brightness import Brightness\n",
    "from anpr.generic.contrast import Contrast\n",
    "from anpr.generic.filter_bilateral import FilterBilateral\n",
    "from anpr.generic.filter_gaussian import FilterGaussian\n",
    "from anpr.generic.filter_mean import FilterMean\n",
    "from anpr.generic.filter_median import FilterMedian\n",
    "from anpr.generic.filter_nlm import FilterNLM\n",
    "from anpr.generic.grayscale import GrayScale\n",
    "from anpr.generic.histogram_normalization import HistogramNormalization\n",
    "from anpr.generic.morphological_closing import MorphologicalClosing\n",
    "from anpr.generic.morphological_opening import MorphologicalOpening\n",
    "from anpr.generic.negative import Negative\n",
    "from anpr.ocr.easy_ocr import EasyOCR"
   ]
  },
  {
   "cell_type": "code",
   "execution_count": null,
   "metadata": {},
   "outputs": [],
   "source": [
    "class AggregateProcessor(ImageProcessor):\n",
    "    def __init__(self, processors: list[ImageProcessor]) -> None:\n",
    "        self._processors = processors\n",
    "\n",
    "    def process(self, image: np.ndarray) -> np.ndarray:\n",
    "        for p in self._processors:\n",
    "            image = p.process(image)\n",
    "\n",
    "        return image"
   ]
  },
  {
   "cell_type": "code",
   "execution_count": null,
   "metadata": {},
   "outputs": [],
   "source": [
    "ds = OpenALPRDataset()\n",
    "indices = [0, 30, 50, 80, 100, 120, 180, 200, 220, 240, 300, 320, 380, 400, 420]"
   ]
  },
  {
   "cell_type": "code",
   "execution_count": null,
   "metadata": {},
   "outputs": [],
   "source": [
    "start = [FilterNLM(21),\n",
    "         FilterBilateral(11, 5, 5),\n",
    "         GrayScale(),\n",
    "         Brightness(-30),\n",
    "         HistogramNormalization(),\n",
    "         Contrast(0.5)]\n",
    "\n",
    "segmentation = [OtsuBinarizer(),\n",
    "                AdaptativeMeanBinarizer(11, 5),\n",
    "                Negative()]\n",
    "\n",
    "processor = AggregateProcessor(start + segmentation)"
   ]
  },
  {
   "cell_type": "code",
   "execution_count": null,
   "metadata": {},
   "outputs": [],
   "source": [
    "detector = EstimatorDetector(seed=42,\n",
    "                             preprocessing=processor,\n",
    "                             pp_in_predict=True)\n",
    "detector.fit(indices, ds)"
   ]
  },
  {
   "cell_type": "code",
   "execution_count": null,
   "metadata": {},
   "outputs": [],
   "source": [
    "img = ds.image_at(5).image\n",
    "plt.imshow(img)"
   ]
  },
  {
   "cell_type": "code",
   "execution_count": null,
   "metadata": {},
   "outputs": [],
   "source": [
    "result = detector.detect(img)"
   ]
  },
  {
   "cell_type": "code",
   "execution_count": null,
   "metadata": {},
   "outputs": [],
   "source": [
    "if result.found_plate:\n",
    "    plt.imshow(result.plate_image)"
   ]
  },
  {
   "cell_type": "code",
   "execution_count": null,
   "metadata": {},
   "outputs": [],
   "source": [
    "fig, ax = plt.subplots()\n",
    "ax.imshow(img)\n",
    "\n",
    "if result.n_candidates > 0:\n",
    "    for c in result.extras.candidates:\n",
    "        x, y, w, h = c\n",
    "        ax.add_patch(patches.Rectangle((x, y), w, h, \n",
    "                                    linewidth=1, \n",
    "                                    edgecolor='r', \n",
    "                                    facecolor='none'))\n"
   ]
  },
  {
   "cell_type": "code",
   "execution_count": null,
   "metadata": {},
   "outputs": [],
   "source": []
  }
 ],
 "metadata": {
  "kernelspec": {
   "display_name": ".venv",
   "language": "python",
   "name": "python3"
  },
  "language_info": {
   "codemirror_mode": {
    "name": "ipython",
    "version": 3
   },
   "file_extension": ".py",
   "mimetype": "text/x-python",
   "name": "python",
   "nbconvert_exporter": "python",
   "pygments_lexer": "ipython3",
   "version": "3.11.3"
  },
  "orig_nbformat": 4
 },
 "nbformat": 4,
 "nbformat_minor": 2
}
